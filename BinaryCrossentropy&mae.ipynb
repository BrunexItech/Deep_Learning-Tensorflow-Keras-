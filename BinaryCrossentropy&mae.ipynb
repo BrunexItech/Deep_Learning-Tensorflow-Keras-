{
  "nbformat": 4,
  "nbformat_minor": 0,
  "metadata": {
    "colab": {
      "provenance": []
    },
    "kernelspec": {
      "name": "python3",
      "display_name": "Python 3"
    },
    "language_info": {
      "name": "python"
    }
  },
  "cells": [
    {
      "cell_type": "code",
      "execution_count": 1,
      "metadata": {
        "id": "K0hKxrrWGji8"
      },
      "outputs": [],
      "source": [
        "import numpy as np\n",
        "y_predicted=np.array([1,1,0,0,1])\n",
        "y_true=np.array([0.30,0.7,1,0,0.5])"
      ]
    },
    {
      "cell_type": "code",
      "source": [
        "absolute_error=np.abs(y_predicted-y_true)\n",
        "absolute_error"
      ],
      "metadata": {
        "colab": {
          "base_uri": "https://localhost:8080/"
        },
        "id": "vuQyy3KpHFn0",
        "outputId": "216af8ac-5bee-45ce-a8a5-a06c3ea14062"
      },
      "execution_count": 2,
      "outputs": [
        {
          "output_type": "execute_result",
          "data": {
            "text/plain": [
              "array([0.7, 0.3, 1. , 0. , 0.5])"
            ]
          },
          "metadata": {},
          "execution_count": 2
        }
      ]
    },
    {
      "cell_type": "code",
      "source": [
        "#mean absolute error\n",
        "mae=np.mean(absolute_error)\n",
        "mae"
      ],
      "metadata": {
        "colab": {
          "base_uri": "https://localhost:8080/"
        },
        "id": "Bq7krpfVHRsb",
        "outputId": "066e684f-9449-47b8-852b-66443d69aef0"
      },
      "execution_count": 4,
      "outputs": [
        {
          "output_type": "execute_result",
          "data": {
            "text/plain": [
              "np.float64(0.5)"
            ]
          },
          "metadata": {},
          "execution_count": 4
        }
      ]
    },
    {
      "cell_type": "code",
      "source": [
        "#BINARY CROSS_ENTROPY/LOG-LOSS\n",
        "#log-loss formula\n",
        "#-1/n.sumation(y_t*log(Y_p) + (1-y_t)*log(1-y_p))\n",
        "\n",
        "\n",
        "import numpy as np\n",
        "y_predicted=np.array([1,1,0,0,1])\n",
        "y_true=np.array([0.30,0.7,1,0,0.5])\n",
        "\n",
        "\n",
        "#Creating a function to do the log-loss calculations\n",
        "def log_loss(y_true,y_predicted):\n",
        "  epsilon=np.exp(-15)\n",
        "  y_predicted_new=[max(i,epsilon) for i in y_predicted]\n",
        "  y_predicted_new=[min(i,1-epsilon) for i in y_predicted_new]\n",
        "  y_predicted_new=np.array(y_predicted_new)\n",
        "  return -np.mean(y_true*np.log(y_predicted_new)+(1-y_true)*np.log(1-y_predicted_new))\n",
        "\n",
        "log_loss(y_true,y_predicted)"
      ],
      "metadata": {
        "colab": {
          "base_uri": "https://localhost:8080/"
        },
        "id": "JFNQcrvUHbQQ",
        "outputId": "3e714e25-d73e-4bc0-f8c0-a0f53ff170bb"
      },
      "execution_count": 14,
      "outputs": [
        {
          "output_type": "execute_result",
          "data": {
            "text/plain": [
              "np.float64(7.50000015297814)"
            ]
          },
          "metadata": {},
          "execution_count": 14
        }
      ]
    },
    {
      "cell_type": "code",
      "source": [],
      "metadata": {
        "id": "iZWf4ObmI1jz"
      },
      "execution_count": null,
      "outputs": []
    }
  ]
}